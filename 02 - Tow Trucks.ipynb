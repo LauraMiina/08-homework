{
 "cells": [
  {
   "cell_type": "markdown",
   "metadata": {},
   "source": [
    "# Texas Tow Trucks\n",
    "\n",
    "We're going to scrape some [tow trucks in Texas](https://www.tdlr.texas.gov/tools_search/). "
   ]
  },
  {
   "cell_type": "markdown",
   "metadata": {},
   "source": [
    "# Part One: Building a company list\n",
    "\n",
    "Search for businesses with the word **WRECK** in their names.\n",
    "\n",
    "* **Tip:** Start by scraping the first page to a dataframe, then expand to a loop that combines all of the pages. Finally combine all of the dataframes with `pd.concat`. You might find [this page helpful](https://jonathansoma.com/everything/scraping/pagination/), although the \"On an interactive site\" example uses Selenium instead of Playwright. You should be able to figure out how to change it!\n",
    "* **Tip:** You can't just do a `try`/`except`, because even if you ask for page 99999 it will always give you the last page again! Watch out that you don't get stuck in an infinite loop!"
   ]
  },
  {
   "cell_type": "code",
   "execution_count": 77,
   "metadata": {},
   "outputs": [],
   "source": [
    "from playwright.async_api import async_playwright\n",
    "from bs4 import BeautifulSoup\n",
    "import csv"
   ]
  },
  {
   "cell_type": "code",
   "execution_count": 59,
   "metadata": {},
   "outputs": [],
   "source": [
    "playwright = await async_playwright().start()\n",
    "browser = await playwright.chromium.launch(headless=False)"
   ]
  },
  {
   "cell_type": "code",
   "execution_count": 60,
   "metadata": {},
   "outputs": [],
   "source": [
    "page = await browser.new_page()"
   ]
  },
  {
   "cell_type": "code",
   "execution_count": 61,
   "metadata": {},
   "outputs": [
    {
     "data": {
      "text/plain": [
       "<Response url='https://www.tdlr.texas.gov/tools_search/' request=<Request url='https://www.tdlr.texas.gov/tools_search/' method='GET'>>"
      ]
     },
     "execution_count": 61,
     "metadata": {},
     "output_type": "execute_result"
    }
   ],
   "source": [
    "await page.goto(\"https://www.tdlr.texas.gov/tools_search/\")"
   ]
  },
  {
   "cell_type": "code",
   "execution_count": 62,
   "metadata": {},
   "outputs": [],
   "source": [
    "await page.locator(\"#namebutton\").click()"
   ]
  },
  {
   "cell_type": "code",
   "execution_count": 63,
   "metadata": {},
   "outputs": [],
   "source": [
    "await page.locator(\"#namedata\").fill(\"WRECK\")"
   ]
  },
  {
   "cell_type": "code",
   "execution_count": 64,
   "metadata": {},
   "outputs": [],
   "source": [
    "await page.locator(\"#submit3\").click()"
   ]
  },
  {
   "cell_type": "code",
   "execution_count": 68,
   "metadata": {},
   "outputs": [],
   "source": [
    "doc = BeautifulSoup(await page.content(), 'html.parser')"
   ]
  },
  {
   "cell_type": "code",
   "execution_count": 85,
   "metadata": {},
   "outputs": [
    {
     "data": {
      "text/plain": [
       "[<table border=\"0\" cellpadding=\"0\" cellspacing=\"0\" width=\"88%\">\n",
       " <tbody><tr>\n",
       " <td align=\"LEFT\" style=\"width: 64%\"><font face=\"Arial\" size=\"3\"><strong> Tow Company and Vehicle Facility Storage Inquiry Results</strong></font></td>\n",
       " <td align=\"RIGHT\" width=\"36%\"><font face=\"Arial\" size=\"2\">Total number of records : 802</font></td>\n",
       " </tr>\n",
       " </tbody></table>,\n",
       " <table border=\"0\" cellpadding=\"0\" cellspacing=\"0\" width=\"88%\">\n",
       " <tbody><tr>\n",
       " <td align=\"LEFT\" width=\"50%\"><font face=\"Arial\" size=\"2\">Page <strong>1</strong> of  <strong>41</strong></font></td>\n",
       " <td align=\"RIGHT\" width=\"50%\"><font face=\"Arial\" size=\"2\"><a href=\"mccs_search_process.asp?ls_search_print=TRUE&amp;stype=name&amp;ls_temp=\n",
       " \t\tWRECK&amp;ls_carrier_type=COMPANY&amp;ls_cert_status=\">\n",
       " <img alt=\"Remove Breakdown\" border=\"0\" src=\"ico-printer_remove.gif\"/></a></font></td>\n",
       " </tr>\n",
       " </tbody></table>,\n",
       " <table align=\"center\" border=\"2\" bordercolor=\"black\" cellpadding=\"1\" cellspacing=\"1\" width=\"88%\">\n",
       " <tbody><tr>\n",
       " <td align=\"left\" bgcolor=\"#FFF8DC\" bordercolor=\"gray\" height=\"20\" width=\"30%\"><font size=\"2\"> <b>Customer  </b></font></td>\n",
       " <td align=\"center\" bgcolor=\"#FFF8DC\" bordercolor=\"gray\" height=\"20\" width=\"20%\"><font size=\"2\"><b>DBA Name  </b></font></td>\n",
       " <td align=\"center\" bgcolor=\"#FFF8DC\" bordercolor=\"gray\" height=\"20\" width=\"15%\"><font size=\"2\"><b>TDLR Number</b></font></td>\n",
       " <td align=\"center\" bgcolor=\"#FFF8DC\" bordercolor=\"gray\" height=\"20\" width=\"15%\"><font size=\"2\"><b>City      </b></font></td>\n",
       " <td align=\"center\" bgcolor=\"#FFF8DC\" bordercolor=\"gray\" height=\"20\" width=\"5%\"><font size=\"2\"><b>State     </b></font></td>\n",
       " <td align=\"center\" bgcolor=\"#FFF8DC\" bordercolor=\"gray\" height=\"20\" width=\"10%\"><font size=\"2\"><b>Zip code   </b></font></td>\n",
       " </tr>\n",
       " <tr><td align=\"left\" bordercolor=\"gray\" height=\"20\" width=\"30%\"><a href=\"mccs_display.asp?mcrnumber=006598046C\">\tCALIBER WRECKER SERVICE LLC </a></td>\n",
       " <td align=\"left\" bordercolor=\"gray\" height=\"20\" width=\"20%\"><img src=\"SPACER.gif\"/></td>\n",
       " <td align=\"center\" bordercolor=\"gray\" height=\"20\" width=\"15%\"><font color=\"red\">006598046C (Insurance not applied !)</font></td>\n",
       " <td align=\"center\" bordercolor=\"gray\" height=\"20\" width=\"15%\">CHANNELVIEW</td>\n",
       " <td align=\"center\" bordercolor=\"gray\" height=\"20\" width=\"5%\">TX</td>\n",
       " <td align=\"center\" bordercolor=\"gray\" height=\"20\" width=\"10%\">77530</td>\n",
       " </tr>\n",
       " <tr><td align=\"left\" bordercolor=\"gray\" height=\"20\" width=\"30%\"><a href=\"mccs_display.asp?mcrnumber=006096604C\">1ST CHOICE WRECKER SERVICE</a></td>\n",
       " <td align=\"left\" bordercolor=\"gray\" height=\"20\" width=\"20%\">1ST CHOICE PAINT &amp; BODY, INC</td>\n",
       " <td align=\"center\" bordercolor=\"gray\" height=\"20\" width=\"15%\"><font color=\"green\">006096604C</font></td>\n",
       " <td align=\"center\" bordercolor=\"gray\" height=\"20\" width=\"15%\">TERRELL</td>\n",
       " <td align=\"center\" bordercolor=\"gray\" height=\"20\" width=\"5%\">TX</td>\n",
       " <td align=\"center\" bordercolor=\"gray\" height=\"20\" width=\"10%\">75160</td>\n",
       " </tr>\n",
       " <tr><td align=\"left\" bordercolor=\"gray\" height=\"20\" width=\"30%\"><a href=\"mccs_display.asp?mcrnumber=0612137VSF\">1ST CHOICE WRECKER SERVICE</a></td>\n",
       " <td align=\"left\" bordercolor=\"gray\" height=\"20\" width=\"20%\">1ST CHOICE PAINT &amp; BODY, INC.</td>\n",
       " <td align=\"center\" bordercolor=\"gray\" height=\"20\" width=\"15%\"><font color=\"green\">0612137VSF</font></td>\n",
       " <td align=\"center\" bordercolor=\"gray\" height=\"20\" width=\"15%\">TERRELL</td>\n",
       " <td align=\"center\" bordercolor=\"gray\" height=\"20\" width=\"5%\">TX</td>\n",
       " <td align=\"center\" bordercolor=\"gray\" height=\"20\" width=\"10%\">75160</td>\n",
       " </tr>\n",
       " <tr><td align=\"left\" bordercolor=\"gray\" height=\"20\" width=\"30%\"><a href=\"mccs_display.asp?mcrnumber=006529369C\">1ST CHOICE WRECKER SERVICE LLC</a></td>\n",
       " <td align=\"left\" bordercolor=\"gray\" height=\"20\" width=\"20%\"><img src=\"SPACER.gif\"/></td>\n",
       " <td align=\"center\" bordercolor=\"gray\" height=\"20\" width=\"15%\"><font color=\"green\">006529369C</font></td>\n",
       " <td align=\"center\" bordercolor=\"gray\" height=\"20\" width=\"15%\">SILSBEE</td>\n",
       " <td align=\"center\" bordercolor=\"gray\" height=\"20\" width=\"5%\">TX</td>\n",
       " <td align=\"center\" bordercolor=\"gray\" height=\"20\" width=\"10%\">77656</td>\n",
       " </tr>\n",
       " <tr><td align=\"left\" bordercolor=\"gray\" height=\"20\" width=\"30%\"><a href=\"mccs_display.asp?mcrnumber=0652937VSF\">1ST CHOICE WRECKER SERVICE LLC</a></td>\n",
       " <td align=\"left\" bordercolor=\"gray\" height=\"20\" width=\"20%\"><img src=\"SPACER.gif\"/></td>\n",
       " <td align=\"center\" bordercolor=\"gray\" height=\"20\" width=\"15%\"><font color=\"green\">0652937VSF</font></td>\n",
       " <td align=\"center\" bordercolor=\"gray\" height=\"20\" width=\"15%\">SILSBEE</td>\n",
       " <td align=\"center\" bordercolor=\"gray\" height=\"20\" width=\"5%\">TX</td>\n",
       " <td align=\"center\" bordercolor=\"gray\" height=\"20\" width=\"10%\">77656</td>\n",
       " </tr>\n",
       " <tr><td align=\"left\" bordercolor=\"gray\" height=\"20\" width=\"30%\"><a href=\"mccs_display.asp?mcrnumber=0655000VSF\">1ST CHOICE WRECKER SERVICE LLC</a></td>\n",
       " <td align=\"left\" bordercolor=\"gray\" height=\"20\" width=\"20%\"><img src=\"SPACER.gif\"/></td>\n",
       " <td align=\"center\" bordercolor=\"gray\" height=\"20\" width=\"15%\"><font color=\"green\">0655000VSF</font></td>\n",
       " <td align=\"center\" bordercolor=\"gray\" height=\"20\" width=\"15%\">SILSBEE</td>\n",
       " <td align=\"center\" bordercolor=\"gray\" height=\"20\" width=\"5%\">TX</td>\n",
       " <td align=\"center\" bordercolor=\"gray\" height=\"20\" width=\"10%\">77656</td>\n",
       " </tr>\n",
       " <tr><td align=\"left\" bordercolor=\"gray\" height=\"20\" width=\"30%\"><a href=\"mccs_display.asp?mcrnumber=0654581VSF\">1STCHOICEWRECKERSERVICELLC</a></td>\n",
       " <td align=\"left\" bordercolor=\"gray\" height=\"20\" width=\"20%\"><img src=\"SPACER.gif\"/></td>\n",
       " <td align=\"center\" bordercolor=\"gray\" height=\"20\" width=\"15%\"><font color=\"green\">0654581VSF</font></td>\n",
       " <td align=\"center\" bordercolor=\"gray\" height=\"20\" width=\"15%\">SILSBEE</td>\n",
       " <td align=\"center\" bordercolor=\"gray\" height=\"20\" width=\"5%\">TX</td>\n",
       " <td align=\"center\" bordercolor=\"gray\" height=\"20\" width=\"10%\">77656</td>\n",
       " </tr>\n",
       " <tr><td align=\"left\" bordercolor=\"gray\" height=\"20\" width=\"30%\"><a href=\"mccs_display.asp?mcrnumber=005052021C\">24 HOUR WRECKER SERVICE INC.</a></td>\n",
       " <td align=\"left\" bordercolor=\"gray\" height=\"20\" width=\"20%\"><img src=\"SPACER.gif\"/></td>\n",
       " <td align=\"center\" bordercolor=\"gray\" height=\"20\" width=\"15%\"><font color=\"green\">005052021C</font></td>\n",
       " <td align=\"center\" bordercolor=\"gray\" height=\"20\" width=\"15%\">LANCASTER</td>\n",
       " <td align=\"center\" bordercolor=\"gray\" height=\"20\" width=\"5%\">TX</td>\n",
       " <td align=\"center\" bordercolor=\"gray\" height=\"20\" width=\"10%\">75146</td>\n",
       " </tr>\n",
       " <tr><td align=\"left\" bordercolor=\"gray\" height=\"20\" width=\"30%\"><a href=\"mccs_display.asp?mcrnumber=0514204VSF\">24 HOUR WRECKER SERVICE, INC</a></td>\n",
       " <td align=\"left\" bordercolor=\"gray\" height=\"20\" width=\"20%\"><img src=\"SPACER.gif\"/></td>\n",
       " <td align=\"center\" bordercolor=\"gray\" height=\"20\" width=\"15%\"><font color=\"green\">0514204VSF</font></td>\n",
       " <td align=\"center\" bordercolor=\"gray\" height=\"20\" width=\"15%\">LANCASTER</td>\n",
       " <td align=\"center\" bordercolor=\"gray\" height=\"20\" width=\"5%\">TX</td>\n",
       " <td align=\"center\" bordercolor=\"gray\" height=\"20\" width=\"10%\">75146</td>\n",
       " </tr>\n",
       " <tr><td align=\"left\" bordercolor=\"gray\" height=\"20\" width=\"30%\"><a href=\"mccs_display.asp?mcrnumber=006551087C\">24/7 WRECKER SERVICE LLC</a></td>\n",
       " <td align=\"left\" bordercolor=\"gray\" height=\"20\" width=\"20%\"><img src=\"SPACER.gif\"/></td>\n",
       " <td align=\"center\" bordercolor=\"gray\" height=\"20\" width=\"15%\"><font color=\"green\">006551087C</font></td>\n",
       " <td align=\"center\" bordercolor=\"gray\" height=\"20\" width=\"15%\">SAN BENITO</td>\n",
       " <td align=\"center\" bordercolor=\"gray\" height=\"20\" width=\"5%\">TX</td>\n",
       " <td align=\"center\" bordercolor=\"gray\" height=\"20\" width=\"10%\">78586</td>\n",
       " </tr>\n",
       " <tr><td align=\"left\" bordercolor=\"gray\" height=\"20\" width=\"30%\"><a href=\"mccs_display.asp?mcrnumber=0659192VSF\">24/7 WRECKER SERVICE LLC</a></td>\n",
       " <td align=\"left\" bordercolor=\"gray\" height=\"20\" width=\"20%\"><img src=\"SPACER.gif\"/></td>\n",
       " <td align=\"center\" bordercolor=\"gray\" height=\"20\" width=\"15%\"><font color=\"green\">0659192VSF</font></td>\n",
       " <td align=\"center\" bordercolor=\"gray\" height=\"20\" width=\"15%\">SAN BENITO</td>\n",
       " <td align=\"center\" bordercolor=\"gray\" height=\"20\" width=\"5%\">TX</td>\n",
       " <td align=\"center\" bordercolor=\"gray\" height=\"20\" width=\"10%\">78586</td>\n",
       " </tr>\n",
       " <tr><td align=\"left\" bordercolor=\"gray\" height=\"20\" width=\"30%\"><a href=\"mccs_display.asp?mcrnumber=0656637VSF\">290 WRECKER SERVICE INC</a></td>\n",
       " <td align=\"left\" bordercolor=\"gray\" height=\"20\" width=\"20%\">HWY 290 WRECKER</td>\n",
       " <td align=\"center\" bordercolor=\"gray\" height=\"20\" width=\"15%\"><font color=\"green\">0656637VSF</font></td>\n",
       " <td align=\"center\" bordercolor=\"gray\" height=\"20\" width=\"15%\">HOCKLEY</td>\n",
       " <td align=\"center\" bordercolor=\"gray\" height=\"20\" width=\"5%\">TX</td>\n",
       " <td align=\"center\" bordercolor=\"gray\" height=\"20\" width=\"10%\">77447</td>\n",
       " </tr>\n",
       " <tr><td align=\"left\" bordercolor=\"gray\" height=\"20\" width=\"30%\"><a href=\"mccs_display.asp?mcrnumber=0650616VSF\">290 WRECKER SERVICE INC.</a></td>\n",
       " <td align=\"left\" bordercolor=\"gray\" height=\"20\" width=\"20%\">HWY 290 WRECKER</td>\n",
       " <td align=\"center\" bordercolor=\"gray\" height=\"20\" width=\"15%\"><font color=\"green\">0650616VSF</font></td>\n",
       " <td align=\"center\" bordercolor=\"gray\" height=\"20\" width=\"15%\">HOCKLEY</td>\n",
       " <td align=\"center\" bordercolor=\"gray\" height=\"20\" width=\"5%\">TX</td>\n",
       " <td align=\"center\" bordercolor=\"gray\" height=\"20\" width=\"10%\">77447</td>\n",
       " </tr>\n",
       " <tr><td align=\"left\" bordercolor=\"gray\" height=\"20\" width=\"30%\"><a href=\"mccs_display.asp?mcrnumber=0545753VSF\">290 WRECKER SERVICE, INC.</a></td>\n",
       " <td align=\"left\" bordercolor=\"gray\" height=\"20\" width=\"20%\">HWY 290 WRECKER</td>\n",
       " <td align=\"center\" bordercolor=\"gray\" height=\"20\" width=\"15%\"><font color=\"green\">0545753VSF</font></td>\n",
       " <td align=\"center\" bordercolor=\"gray\" height=\"20\" width=\"15%\">HOCKLEY</td>\n",
       " <td align=\"center\" bordercolor=\"gray\" height=\"20\" width=\"5%\">TX</td>\n",
       " <td align=\"center\" bordercolor=\"gray\" height=\"20\" width=\"10%\">77447</td>\n",
       " </tr>\n",
       " <tr><td align=\"left\" bordercolor=\"gray\" height=\"20\" width=\"30%\"><a href=\"mccs_display.asp?mcrnumber=005697854C\">290 WRECKER SERVICE, INC.</a></td>\n",
       " <td align=\"left\" bordercolor=\"gray\" height=\"20\" width=\"20%\">HWY 290 WRECKER</td>\n",
       " <td align=\"center\" bordercolor=\"gray\" height=\"20\" width=\"15%\"><font color=\"green\">005697854C</font></td>\n",
       " <td align=\"center\" bordercolor=\"gray\" height=\"20\" width=\"15%\">WALLER</td>\n",
       " <td align=\"center\" bordercolor=\"gray\" height=\"20\" width=\"5%\">TX</td>\n",
       " <td align=\"center\" bordercolor=\"gray\" height=\"20\" width=\"10%\">77484</td>\n",
       " </tr>\n",
       " <tr><td align=\"left\" bordercolor=\"gray\" height=\"20\" width=\"30%\"><a href=\"mccs_display.asp?mcrnumber=0657944VSF\">290 WRECKER SERVICE, INC.</a></td>\n",
       " <td align=\"left\" bordercolor=\"gray\" height=\"20\" width=\"20%\">HWY 290 WRECKER SERVICE</td>\n",
       " <td align=\"center\" bordercolor=\"gray\" height=\"20\" width=\"15%\"><font color=\"red\">0657944VSF (Insurance not applied !)</font></td>\n",
       " <td align=\"center\" bordercolor=\"gray\" height=\"20\" width=\"15%\">HOCKLEY</td>\n",
       " <td align=\"center\" bordercolor=\"gray\" height=\"20\" width=\"5%\">TX</td>\n",
       " <td align=\"center\" bordercolor=\"gray\" height=\"20\" width=\"10%\">77447</td>\n",
       " </tr>\n",
       " <tr><td align=\"left\" bordercolor=\"gray\" height=\"20\" width=\"30%\"><a href=\"mccs_display.asp?mcrnumber=006576510C\">3 ACES WRECKER SERVICE, LLC </a></td>\n",
       " <td align=\"left\" bordercolor=\"gray\" height=\"20\" width=\"20%\"><img src=\"SPACER.gif\"/></td>\n",
       " <td align=\"center\" bordercolor=\"gray\" height=\"20\" width=\"15%\"><font color=\"green\">006576510C</font></td>\n",
       " <td align=\"center\" bordercolor=\"gray\" height=\"20\" width=\"15%\">WALLISVILLE</td>\n",
       " <td align=\"center\" bordercolor=\"gray\" height=\"20\" width=\"5%\">TX</td>\n",
       " <td align=\"center\" bordercolor=\"gray\" height=\"20\" width=\"10%\">77597</td>\n",
       " </tr>\n",
       " <tr><td align=\"left\" bordercolor=\"gray\" height=\"20\" width=\"30%\"><a href=\"mccs_display.asp?mcrnumber=0657711VSF\">3 ACES WRECKER SERVICE, LLC </a></td>\n",
       " <td align=\"left\" bordercolor=\"gray\" height=\"20\" width=\"20%\"><img src=\"SPACER.gif\"/></td>\n",
       " <td align=\"center\" bordercolor=\"gray\" height=\"20\" width=\"15%\"><font color=\"green\">0657711VSF</font></td>\n",
       " <td align=\"center\" bordercolor=\"gray\" height=\"20\" width=\"15%\">WALLISVILLE</td>\n",
       " <td align=\"center\" bordercolor=\"gray\" height=\"20\" width=\"5%\">TX</td>\n",
       " <td align=\"center\" bordercolor=\"gray\" height=\"20\" width=\"10%\">77597</td>\n",
       " </tr>\n",
       " <tr><td align=\"left\" bordercolor=\"gray\" height=\"20\" width=\"30%\"><a href=\"mccs_display.asp?mcrnumber=0657712VSF\">3 ACES WRECKER SERVICE, LLC</a></td>\n",
       " <td align=\"left\" bordercolor=\"gray\" height=\"20\" width=\"20%\"><img src=\"SPACER.gif\"/></td>\n",
       " <td align=\"center\" bordercolor=\"gray\" height=\"20\" width=\"15%\"><font color=\"green\">0657712VSF</font></td>\n",
       " <td align=\"center\" bordercolor=\"gray\" height=\"20\" width=\"15%\">WALLISVILLE</td>\n",
       " <td align=\"center\" bordercolor=\"gray\" height=\"20\" width=\"5%\">TX</td>\n",
       " <td align=\"center\" bordercolor=\"gray\" height=\"20\" width=\"10%\">77597</td>\n",
       " </tr>\n",
       " <tr><td align=\"left\" bordercolor=\"gray\" height=\"20\" width=\"30%\"><a href=\"mccs_display.asp?mcrnumber=0657713VSF\">3 ACES WRECKER SERVICE, LLC</a></td>\n",
       " <td align=\"left\" bordercolor=\"gray\" height=\"20\" width=\"20%\"><img src=\"SPACER.gif\"/></td>\n",
       " <td align=\"center\" bordercolor=\"gray\" height=\"20\" width=\"15%\"><font color=\"green\">0657713VSF</font></td>\n",
       " <td align=\"center\" bordercolor=\"gray\" height=\"20\" width=\"15%\">WALLISVILLE</td>\n",
       " <td align=\"center\" bordercolor=\"gray\" height=\"20\" width=\"5%\">TX</td>\n",
       " <td align=\"center\" bordercolor=\"gray\" height=\"20\" width=\"10%\">77597</td>\n",
       " </tr>\n",
       " </tbody></table>,\n",
       " <table align=\"center\" width=\"88%\">\n",
       " <tbody><tr>\n",
       " <td align=\"LEFT\" width=\"50%\"><a href=\"mccs_search.asp\"><strong>New Search</strong></a></td>\n",
       " <td align=\"RIGHT\" width=\"50%\"><a href=\"#top\"><strong>Top of Page</strong></a></td>\n",
       " </tr>\n",
       " </tbody></table>]"
      ]
     },
     "execution_count": 85,
     "metadata": {},
     "output_type": "execute_result"
    }
   ],
   "source": [
    "doc.select(\"table\")"
   ]
  },
  {
   "cell_type": "code",
   "execution_count": 83,
   "metadata": {},
   "outputs": [],
   "source": [
    "import pandas as pd"
   ]
  },
  {
   "cell_type": "code",
   "execution_count": 84,
   "metadata": {},
   "outputs": [
    {
     "name": "stdout",
     "output_type": "stream",
     "text": [
      "                          Customer                       DBA Name  \\\n",
      "0      CALIBER WRECKER SERVICE LLC                                  \n",
      "1       1ST CHOICE WRECKER SERVICE   1ST CHOICE PAINT & BODY, INC   \n",
      "2       1ST CHOICE WRECKER SERVICE  1ST CHOICE PAINT & BODY, INC.   \n",
      "3   1ST CHOICE WRECKER SERVICE LLC                                  \n",
      "4   1ST CHOICE WRECKER SERVICE LLC                                  \n",
      "5   1ST CHOICE WRECKER SERVICE LLC                                  \n",
      "6       1STCHOICEWRECKERSERVICELLC                                  \n",
      "7     24 HOUR WRECKER SERVICE INC.                                  \n",
      "8     24 HOUR WRECKER SERVICE, INC                                  \n",
      "9         24/7 WRECKER SERVICE LLC                                  \n",
      "10        24/7 WRECKER SERVICE LLC                                  \n",
      "11         290 WRECKER SERVICE INC                HWY 290 WRECKER   \n",
      "12        290 WRECKER SERVICE INC.                HWY 290 WRECKER   \n",
      "13       290 WRECKER SERVICE, INC.                HWY 290 WRECKER   \n",
      "14       290 WRECKER SERVICE, INC.                HWY 290 WRECKER   \n",
      "15       290 WRECKER SERVICE, INC.        HWY 290 WRECKER SERVICE   \n",
      "16     3 ACES WRECKER SERVICE, LLC                                  \n",
      "17     3 ACES WRECKER SERVICE, LLC                                  \n",
      "18     3 ACES WRECKER SERVICE, LLC                                  \n",
      "19     3 ACES WRECKER SERVICE, LLC                                  \n",
      "\n",
      "                             TDLR Number         City State Zip code  \n",
      "0   006598046C (Insurance not applied !)  CHANNELVIEW    TX    77530  \n",
      "1                             006096604C      TERRELL    TX    75160  \n",
      "2                             0612137VSF      TERRELL    TX    75160  \n",
      "3                             006529369C      SILSBEE    TX    77656  \n",
      "4                             0652937VSF      SILSBEE    TX    77656  \n",
      "5                             0655000VSF      SILSBEE    TX    77656  \n",
      "6                             0654581VSF      SILSBEE    TX    77656  \n",
      "7                             005052021C    LANCASTER    TX    75146  \n",
      "8                             0514204VSF    LANCASTER    TX    75146  \n",
      "9                             006551087C   SAN BENITO    TX    78586  \n",
      "10                            0659192VSF   SAN BENITO    TX    78586  \n",
      "11                            0656637VSF      HOCKLEY    TX    77447  \n",
      "12                            0650616VSF      HOCKLEY    TX    77447  \n",
      "13                            0545753VSF      HOCKLEY    TX    77447  \n",
      "14                            005697854C       WALLER    TX    77484  \n",
      "15  0657944VSF (Insurance not applied !)      HOCKLEY    TX    77447  \n",
      "16                            006576510C  WALLISVILLE    TX    77597  \n",
      "17                            0657711VSF  WALLISVILLE    TX    77597  \n",
      "18                            0657712VSF  WALLISVILLE    TX    77597  \n",
      "19                            0657713VSF  WALLISVILLE    TX    77597  \n"
     ]
    }
   ],
   "source": [
    "table = doc.find('table', align='center', width='88%')\n",
    "headers = [header.text.strip() for header in table.find_all('td')]\n",
    "data_rows = table.find_all('tr')[1:]\n",
    "\n",
    "customers = []\n",
    "dba_names = []\n",
    "tdlr_numbers = []\n",
    "cities = []\n",
    "states = []\n",
    "zip_codes = []\n",
    "\n",
    "for row in data_rows:\n",
    "    cells = row.find_all('td')\n",
    "    customers.append(cells[0].text.strip())\n",
    "    dba_names.append(cells[1].text.strip())\n",
    "    tdlr_numbers.append(cells[2].text.strip())\n",
    "    cities.append(cells[3].text.strip())\n",
    "    states.append(cells[4].text.strip())\n",
    "    zip_codes.append(cells[5].text.strip())\n",
    "\n",
    "data = {\n",
    "    'Customer': customers,\n",
    "    'DBA Name': dba_names,\n",
    "    'TDLR Number': tdlr_numbers,\n",
    "    'City': cities,\n",
    "    'State': states,\n",
    "    'Zip code': zip_codes\n",
    "}\n",
    "\n",
    "df = pd.DataFrame(data)\n",
    "print(df)"
   ]
  },
  {
   "cell_type": "code",
   "execution_count": null,
   "metadata": {},
   "outputs": [],
   "source": []
  },
  {
   "cell_type": "code",
   "execution_count": null,
   "metadata": {},
   "outputs": [],
   "source": []
  },
  {
   "cell_type": "code",
   "execution_count": null,
   "metadata": {},
   "outputs": [],
   "source": []
  },
  {
   "cell_type": "markdown",
   "metadata": {},
   "source": [
    "### Cleanup\n",
    "\n",
    "If you haven't already, rename the columns to be:\n",
    "    \n",
    "    * Customer\n",
    "    * DBA Name\n",
    "    * TDLR Number\n",
    "    * City\n",
    "    * State\n",
    "    * Zip code\n",
    "\n",
    "and remove all of the rows where the customer name is `Customer`."
   ]
  },
  {
   "cell_type": "code",
   "execution_count": null,
   "metadata": {},
   "outputs": [],
   "source": [
    "#Why would the customer name be customer, if we searched with the name \"wreck\"?"
   ]
  },
  {
   "cell_type": "code",
   "execution_count": null,
   "metadata": {},
   "outputs": [],
   "source": []
  },
  {
   "cell_type": "markdown",
   "metadata": {},
   "source": [
    "## Save as `wreckers.csv`"
   ]
  },
  {
   "cell_type": "code",
   "execution_count": 86,
   "metadata": {},
   "outputs": [],
   "source": [
    "df.to_csv('wreckers.csv', index=False)"
   ]
  },
  {
   "cell_type": "code",
   "execution_count": 88,
   "metadata": {},
   "outputs": [
    {
     "name": "stdout",
     "output_type": "stream",
     "text": [
      "00 - Scraping basics for Playwright.ipynb\n",
      "01 - Scraping - Texas Cosmetology Violations.ipynb\n",
      "02 - Tow Trucks.ipynb\n",
      "headlines.csv\n",
      "trucks-subset.csv\n",
      "wreck.csv\n",
      "wreckers.csv\n"
     ]
    }
   ],
   "source": [
    "!ls"
   ]
  },
  {
   "cell_type": "markdown",
   "metadata": {},
   "source": [
    "# Part Two: Company info\n",
    "\n",
    "> You can use whatever tool you'd like for this, but form submission doesn't necessarily mean Playwright! If you want to go the `requests` route instead, feel free to [look at this page](https://jonathansoma.com/everything/scraping/pretending-to-be-a-browser/) about several ways to pretend to be a browser.\n",
    "\n",
    "## Step 1: Scraping one page\n",
    "\n",
    "Try searching from the [tools page](https://www.tdlr.texas.gov/tools_search/) for the TDLR Number `006556161C`. From the results page, scrape the:\n",
    "\n",
    "* Business name\n",
    "* Phone number\n",
    "* License status\n",
    "* Physical address\n",
    "\n",
    "And save the results into a dictionary. Also include `TDLR Number` in the dictionary. **Print the dictionary**.\n",
    "\n",
    "> ***Tip:** It's best if each item has its own key, but **it's fine to pull \"larger\" sections of the page and split them up in pandas later on***\n",
    ">\n",
    "> ***Tip:** Be sure you don't forget to include `TDLR Number` in the dictionary!*"
   ]
  },
  {
   "cell_type": "code",
   "execution_count": null,
   "metadata": {},
   "outputs": [],
   "source": []
  },
  {
   "cell_type": "code",
   "execution_count": null,
   "metadata": {},
   "outputs": [],
   "source": []
  },
  {
   "cell_type": "markdown",
   "metadata": {},
   "source": [
    "## Step 2: Move into one cell\n",
    "\n",
    "Move the code above all into one cell that relies on the variable `tdlr_number`.\n",
    "\n",
    "Add the code below to the page and confirm that it displays the data for the correct result.\n",
    "\n",
    "```python\n",
    "tdlr_number = '0654479VSF'\n",
    "```\n",
    "\n",
    "Confirm that the information is correct. Did it not work out? Go back and edit your selectors, or be a little broader in the parts of the page you sweep up."
   ]
  },
  {
   "cell_type": "code",
   "execution_count": null,
   "metadata": {},
   "outputs": [],
   "source": []
  },
  {
   "cell_type": "code",
   "execution_count": null,
   "metadata": {},
   "outputs": [],
   "source": []
  },
  {
   "cell_type": "markdown",
   "metadata": {},
   "source": [
    "## Step 3: Scraping many pages\n",
    "\n",
    "Using pandas, read in `trucks-subset.csv`."
   ]
  },
  {
   "cell_type": "code",
   "execution_count": null,
   "metadata": {},
   "outputs": [],
   "source": []
  },
  {
   "cell_type": "markdown",
   "metadata": {},
   "source": [
    "## Scrape every single row, creating a list of dictionaries from the scraped data.\n",
    "\n",
    "You should never use for loops with pandas *except when working with Playwright*. To use loops in pandas you'll make use of `.iterrows()`.\n",
    "\n",
    "The code below loops through a dataframe called `df` and prints out the `address` column.\n",
    "\n",
    "```python\n",
    "for index, row in df.iterrows():\n",
    "    print(row['address'])\n",
    "```\n",
    "\n",
    "You'll adapt this code to use your dataframe, and combine it with the scraping code you wrote above.\n",
    "\n",
    "> ***Tip:** This is like what we did for the townships in class*"
   ]
  },
  {
   "cell_type": "code",
   "execution_count": null,
   "metadata": {},
   "outputs": [],
   "source": []
  },
  {
   "cell_type": "code",
   "execution_count": null,
   "metadata": {},
   "outputs": [],
   "source": []
  },
  {
   "cell_type": "code",
   "execution_count": null,
   "metadata": {},
   "outputs": [],
   "source": []
  },
  {
   "cell_type": "code",
   "execution_count": null,
   "metadata": {},
   "outputs": [],
   "source": []
  },
  {
   "cell_type": "markdown",
   "metadata": {},
   "source": [
    "## Save your dataframe as `data-uncleaned.csv`"
   ]
  },
  {
   "cell_type": "code",
   "execution_count": null,
   "metadata": {},
   "outputs": [],
   "source": []
  },
  {
   "cell_type": "markdown",
   "metadata": {},
   "source": [
    "# Cleaning your data\n",
    "\n",
    "## Re-open the `data-uncleaned.csv` file\n",
    "\n",
    "You probably want to set `pd.options.display.max_colwidth`"
   ]
  },
  {
   "cell_type": "code",
   "execution_count": null,
   "metadata": {},
   "outputs": [],
   "source": []
  },
  {
   "cell_type": "markdown",
   "metadata": {},
   "source": [
    "## Clean it up!\n",
    "\n",
    "Make sure there are columns for\n",
    "\n",
    "- Business name\n",
    "- Phone number\n",
    "- License status\n",
    "- Physical address\n",
    "\n",
    "And drop all of the other columns (The easiest way is to use `df = df.drop(columns=[...])`)"
   ]
  },
  {
   "cell_type": "code",
   "execution_count": null,
   "metadata": {},
   "outputs": [],
   "source": []
  },
  {
   "cell_type": "code",
   "execution_count": null,
   "metadata": {},
   "outputs": [],
   "source": []
  },
  {
   "cell_type": "markdown",
   "metadata": {},
   "source": [
    "## Combine with the original CSV file\n",
    "\n",
    "To combine dataframes based on indexes, you use `df.join(other_df)`. If you'd prefer to match by columns, you could also use `df.merge(other_df, left_on='...', right_on='...')` and tell it the two columns that match between the two."
   ]
  },
  {
   "cell_type": "code",
   "execution_count": null,
   "metadata": {},
   "outputs": [],
   "source": []
  },
  {
   "cell_type": "code",
   "execution_count": null,
   "metadata": {},
   "outputs": [],
   "source": []
  },
  {
   "cell_type": "markdown",
   "metadata": {},
   "source": [
    "### Save to a CSV"
   ]
  },
  {
   "cell_type": "code",
   "execution_count": null,
   "metadata": {},
   "outputs": [],
   "source": []
  }
 ],
 "metadata": {
  "kernelspec": {
   "display_name": "Python 3 (ipykernel)",
   "language": "python",
   "name": "python3"
  },
  "language_info": {
   "codemirror_mode": {
    "name": "ipython",
    "version": 3
   },
   "file_extension": ".py",
   "mimetype": "text/x-python",
   "name": "python",
   "nbconvert_exporter": "python",
   "pygments_lexer": "ipython3",
   "version": "3.11.6"
  }
 },
 "nbformat": 4,
 "nbformat_minor": 4
}
