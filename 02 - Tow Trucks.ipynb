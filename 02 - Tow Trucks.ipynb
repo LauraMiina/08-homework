{
 "cells": [
  {
   "cell_type": "markdown",
   "metadata": {},
   "source": [
    "# Texas Tow Trucks\n",
    "\n",
    "We're going to scrape some [tow trucks in Texas](https://www.tdlr.texas.gov/tools_search/). "
   ]
  },
  {
   "cell_type": "markdown",
   "metadata": {},
   "source": [
    "# Part One: Building a company list\n",
    "\n",
    "Search for businesses with the word **WRECK** in their names.\n",
    "\n",
    "* **Tip:** Start by scraping the first page to a dataframe, then expand to a loop that combines all of the pages. Finally combine all of the dataframes with `pd.concat`. You might find [this page helpful](https://jonathansoma.com/everything/scraping/pagination/), although the \"On an interactive site\" example uses Selenium instead of Playwright. You should be able to figure out how to change it!\n",
    "* **Tip:** You can't just do a `try`/`except`, because even if you ask for page 99999 it will always give you the last page again! Watch out that you don't get stuck in an infinite loop!"
   ]
  },
  {
   "cell_type": "code",
   "execution_count": 77,
   "metadata": {},
   "outputs": [],
   "source": [
    "from playwright.async_api import async_playwright\n",
    "from bs4 import BeautifulSoup\n",
    "import csv"
   ]
  },
  {
   "cell_type": "code",
   "execution_count": 59,
   "metadata": {},
   "outputs": [],
   "source": [
    "playwright = await async_playwright().start()\n",
    "browser = await playwright.chromium.launch(headless=False)"
   ]
  },
  {
   "cell_type": "code",
   "execution_count": 60,
   "metadata": {},
   "outputs": [],
   "source": [
    "page = await browser.new_page()"
   ]
  },
  {
   "cell_type": "code",
   "execution_count": 61,
   "metadata": {},
   "outputs": [
    {
     "data": {
      "text/plain": [
       "<Response url='https://www.tdlr.texas.gov/tools_search/' request=<Request url='https://www.tdlr.texas.gov/tools_search/' method='GET'>>"
      ]
     },
     "execution_count": 61,
     "metadata": {},
     "output_type": "execute_result"
    }
   ],
   "source": [
    "await page.goto(\"https://www.tdlr.texas.gov/tools_search/\")"
   ]
  },
  {
   "cell_type": "code",
   "execution_count": 62,
   "metadata": {},
   "outputs": [],
   "source": [
    "await page.locator(\"#namebutton\").click()"
   ]
  },
  {
   "cell_type": "code",
   "execution_count": 63,
   "metadata": {},
   "outputs": [],
   "source": [
    "await page.locator(\"#namedata\").fill(\"WRECK\")"
   ]
  },
  {
   "cell_type": "code",
   "execution_count": 64,
   "metadata": {},
   "outputs": [],
   "source": [
    "await page.locator(\"#submit3\").click()"
   ]
  },
  {
   "cell_type": "code",
   "execution_count": 68,
   "metadata": {},
   "outputs": [],
   "source": [
    "doc = BeautifulSoup(await page.content(), 'html.parser')"
   ]
  },
  {
   "cell_type": "code",
   "execution_count": 85,
   "metadata": {},
   "outputs": [
    {
     "data": {
      "text/plain": [
       "[<table border=\"0\" cellpadding=\"0\" cellspacing=\"0\" width=\"88%\">\n",
       " <tbody><tr>\n",
       " <td align=\"LEFT\" style=\"width: 64%\"><font face=\"Arial\" size=\"3\"><strong> Tow Company and Vehicle Facility Storage Inquiry Results</strong></font></td>\n",
       " <td align=\"RIGHT\" width=\"36%\"><font face=\"Arial\" size=\"2\">Total number of records : 802</font></td>\n",
       " </tr>\n",
       " </tbody></table>,\n",
       " <table border=\"0\" cellpadding=\"0\" cellspacing=\"0\" width=\"88%\">\n",
       " <tbody><tr>\n",
       " <td align=\"LEFT\" width=\"50%\"><font face=\"Arial\" size=\"2\">Page <strong>1</strong> of  <strong>41</strong></font></td>\n",
       " <td align=\"RIGHT\" width=\"50%\"><font face=\"Arial\" size=\"2\"><a href=\"mccs_search_process.asp?ls_search_print=TRUE&amp;stype=name&amp;ls_temp=\n",
       " \t\tWRECK&amp;ls_carrier_type=COMPANY&amp;ls_cert_status=\">\n",
       " <img alt=\"Remove Breakdown\" border=\"0\" src=\"ico-printer_remove.gif\"/></a></font></td>\n",
       " </tr>\n",
       " </tbody></table>,\n",
       " <table align=\"center\" border=\"2\" bordercolor=\"black\" cellpadding=\"1\" cellspacing=\"1\" width=\"88%\">\n",
       " <tbody><tr>\n",
       " <td align=\"left\" bgcolor=\"#FFF8DC\" bordercolor=\"gray\" height=\"20\" width=\"30%\"><font size=\"2\"> <b>Customer  </b></font></td>\n",
       " <td align=\"center\" bgcolor=\"#FFF8DC\" bordercolor=\"gray\" height=\"20\" width=\"20%\"><font size=\"2\"><b>DBA Name  </b></font></td>\n",
       " <td align=\"center\" bgcolor=\"#FFF8DC\" bordercolor=\"gray\" height=\"20\" width=\"15%\"><font size=\"2\"><b>TDLR Number</b></font></td>\n",
       " <td align=\"center\" bgcolor=\"#FFF8DC\" bordercolor=\"gray\" height=\"20\" width=\"15%\"><font size=\"2\"><b>City      </b></font></td>\n",
       " <td align=\"center\" bgcolor=\"#FFF8DC\" bordercolor=\"gray\" height=\"20\" width=\"5%\"><font size=\"2\"><b>State     </b></font></td>\n",
       " <td align=\"center\" bgcolor=\"#FFF8DC\" bordercolor=\"gray\" height=\"20\" width=\"10%\"><font size=\"2\"><b>Zip code   </b></font></td>\n",
       " </tr>\n",
       " <tr><td align=\"left\" bordercolor=\"gray\" height=\"20\" width=\"30%\"><a href=\"mccs_display.asp?mcrnumber=006598046C\">\tCALIBER WRECKER SERVICE LLC </a></td>\n",
       " <td align=\"left\" bordercolor=\"gray\" height=\"20\" width=\"20%\"><img src=\"SPACER.gif\"/></td>\n",
       " <td align=\"center\" bordercolor=\"gray\" height=\"20\" width=\"15%\"><font color=\"red\">006598046C (Insurance not applied !)</font></td>\n",
       " <td align=\"center\" bordercolor=\"gray\" height=\"20\" width=\"15%\">CHANNELVIEW</td>\n",
       " <td align=\"center\" bordercolor=\"gray\" height=\"20\" width=\"5%\">TX</td>\n",
       " <td align=\"center\" bordercolor=\"gray\" height=\"20\" width=\"10%\">77530</td>\n",
       " </tr>\n",
       " <tr><td align=\"left\" bordercolor=\"gray\" height=\"20\" width=\"30%\"><a href=\"mccs_display.asp?mcrnumber=006096604C\">1ST CHOICE WRECKER SERVICE</a></td>\n",
       " <td align=\"left\" bordercolor=\"gray\" height=\"20\" width=\"20%\">1ST CHOICE PAINT &amp; BODY, INC</td>\n",
       " <td align=\"center\" bordercolor=\"gray\" height=\"20\" width=\"15%\"><font color=\"green\">006096604C</font></td>\n",
       " <td align=\"center\" bordercolor=\"gray\" height=\"20\" width=\"15%\">TERRELL</td>\n",
       " <td align=\"center\" bordercolor=\"gray\" height=\"20\" width=\"5%\">TX</td>\n",
       " <td align=\"center\" bordercolor=\"gray\" height=\"20\" width=\"10%\">75160</td>\n",
       " </tr>\n",
       " <tr><td align=\"left\" bordercolor=\"gray\" height=\"20\" width=\"30%\"><a href=\"mccs_display.asp?mcrnumber=0612137VSF\">1ST CHOICE WRECKER SERVICE</a></td>\n",
       " <td align=\"left\" bordercolor=\"gray\" height=\"20\" width=\"20%\">1ST CHOICE PAINT &amp; BODY, INC.</td>\n",
       " <td align=\"center\" bordercolor=\"gray\" height=\"20\" width=\"15%\"><font color=\"green\">0612137VSF</font></td>\n",
       " <td align=\"center\" bordercolor=\"gray\" height=\"20\" width=\"15%\">TERRELL</td>\n",
       " <td align=\"center\" bordercolor=\"gray\" height=\"20\" width=\"5%\">TX</td>\n",
       " <td align=\"center\" bordercolor=\"gray\" height=\"20\" width=\"10%\">75160</td>\n",
       " </tr>\n",
       " <tr><td align=\"left\" bordercolor=\"gray\" height=\"20\" width=\"30%\"><a href=\"mccs_display.asp?mcrnumber=006529369C\">1ST CHOICE WRECKER SERVICE LLC</a></td>\n",
       " <td align=\"left\" bordercolor=\"gray\" height=\"20\" width=\"20%\"><img src=\"SPACER.gif\"/></td>\n",
       " <td align=\"center\" bordercolor=\"gray\" height=\"20\" width=\"15%\"><font color=\"green\">006529369C</font></td>\n",
       " <td align=\"center\" bordercolor=\"gray\" height=\"20\" width=\"15%\">SILSBEE</td>\n",
       " <td align=\"center\" bordercolor=\"gray\" height=\"20\" width=\"5%\">TX</td>\n",
       " <td align=\"center\" bordercolor=\"gray\" height=\"20\" width=\"10%\">77656</td>\n",
       " </tr>\n",
       " <tr><td align=\"left\" bordercolor=\"gray\" height=\"20\" width=\"30%\"><a href=\"mccs_display.asp?mcrnumber=0652937VSF\">1ST CHOICE WRECKER SERVICE LLC</a></td>\n",
       " <td align=\"left\" bordercolor=\"gray\" height=\"20\" width=\"20%\"><img src=\"SPACER.gif\"/></td>\n",
       " <td align=\"center\" bordercolor=\"gray\" height=\"20\" width=\"15%\"><font color=\"green\">0652937VSF</font></td>\n",
       " <td align=\"center\" bordercolor=\"gray\" height=\"20\" width=\"15%\">SILSBEE</td>\n",
       " <td align=\"center\" bordercolor=\"gray\" height=\"20\" width=\"5%\">TX</td>\n",
       " <td align=\"center\" bordercolor=\"gray\" height=\"20\" width=\"10%\">77656</td>\n",
       " </tr>\n",
       " <tr><td align=\"left\" bordercolor=\"gray\" height=\"20\" width=\"30%\"><a href=\"mccs_display.asp?mcrnumber=0655000VSF\">1ST CHOICE WRECKER SERVICE LLC</a></td>\n",
       " <td align=\"left\" bordercolor=\"gray\" height=\"20\" width=\"20%\"><img src=\"SPACER.gif\"/></td>\n",
       " <td align=\"center\" bordercolor=\"gray\" height=\"20\" width=\"15%\"><font color=\"green\">0655000VSF</font></td>\n",
       " <td align=\"center\" bordercolor=\"gray\" height=\"20\" width=\"15%\">SILSBEE</td>\n",
       " <td align=\"center\" bordercolor=\"gray\" height=\"20\" width=\"5%\">TX</td>\n",
       " <td align=\"center\" bordercolor=\"gray\" height=\"20\" width=\"10%\">77656</td>\n",
       " </tr>\n",
       " <tr><td align=\"left\" bordercolor=\"gray\" height=\"20\" width=\"30%\"><a href=\"mccs_display.asp?mcrnumber=0654581VSF\">1STCHOICEWRECKERSERVICELLC</a></td>\n",
       " <td align=\"left\" bordercolor=\"gray\" height=\"20\" width=\"20%\"><img src=\"SPACER.gif\"/></td>\n",
       " <td align=\"center\" bordercolor=\"gray\" height=\"20\" width=\"15%\"><font color=\"green\">0654581VSF</font></td>\n",
       " <td align=\"center\" bordercolor=\"gray\" height=\"20\" width=\"15%\">SILSBEE</td>\n",
       " <td align=\"center\" bordercolor=\"gray\" height=\"20\" width=\"5%\">TX</td>\n",
       " <td align=\"center\" bordercolor=\"gray\" height=\"20\" width=\"10%\">77656</td>\n",
       " </tr>\n",
       " <tr><td align=\"left\" bordercolor=\"gray\" height=\"20\" width=\"30%\"><a href=\"mccs_display.asp?mcrnumber=005052021C\">24 HOUR WRECKER SERVICE INC.</a></td>\n",
       " <td align=\"left\" bordercolor=\"gray\" height=\"20\" width=\"20%\"><img src=\"SPACER.gif\"/></td>\n",
       " <td align=\"center\" bordercolor=\"gray\" height=\"20\" width=\"15%\"><font color=\"green\">005052021C</font></td>\n",
       " <td align=\"center\" bordercolor=\"gray\" height=\"20\" width=\"15%\">LANCASTER</td>\n",
       " <td align=\"center\" bordercolor=\"gray\" height=\"20\" width=\"5%\">TX</td>\n",
       " <td align=\"center\" bordercolor=\"gray\" height=\"20\" width=\"10%\">75146</td>\n",
       " </tr>\n",
       " <tr><td align=\"left\" bordercolor=\"gray\" height=\"20\" width=\"30%\"><a href=\"mccs_display.asp?mcrnumber=0514204VSF\">24 HOUR WRECKER SERVICE, INC</a></td>\n",
       " <td align=\"left\" bordercolor=\"gray\" height=\"20\" width=\"20%\"><img src=\"SPACER.gif\"/></td>\n",
       " <td align=\"center\" bordercolor=\"gray\" height=\"20\" width=\"15%\"><font color=\"green\">0514204VSF</font></td>\n",
       " <td align=\"center\" bordercolor=\"gray\" height=\"20\" width=\"15%\">LANCASTER</td>\n",
       " <td align=\"center\" bordercolor=\"gray\" height=\"20\" width=\"5%\">TX</td>\n",
       " <td align=\"center\" bordercolor=\"gray\" height=\"20\" width=\"10%\">75146</td>\n",
       " </tr>\n",
       " <tr><td align=\"left\" bordercolor=\"gray\" height=\"20\" width=\"30%\"><a href=\"mccs_display.asp?mcrnumber=006551087C\">24/7 WRECKER SERVICE LLC</a></td>\n",
       " <td align=\"left\" bordercolor=\"gray\" height=\"20\" width=\"20%\"><img src=\"SPACER.gif\"/></td>\n",
       " <td align=\"center\" bordercolor=\"gray\" height=\"20\" width=\"15%\"><font color=\"green\">006551087C</font></td>\n",
       " <td align=\"center\" bordercolor=\"gray\" height=\"20\" width=\"15%\">SAN BENITO</td>\n",
       " <td align=\"center\" bordercolor=\"gray\" height=\"20\" width=\"5%\">TX</td>\n",
       " <td align=\"center\" bordercolor=\"gray\" height=\"20\" width=\"10%\">78586</td>\n",
       " </tr>\n",
       " <tr><td align=\"left\" bordercolor=\"gray\" height=\"20\" width=\"30%\"><a href=\"mccs_display.asp?mcrnumber=0659192VSF\">24/7 WRECKER SERVICE LLC</a></td>\n",
       " <td align=\"left\" bordercolor=\"gray\" height=\"20\" width=\"20%\"><img src=\"SPACER.gif\"/></td>\n",
       " <td align=\"center\" bordercolor=\"gray\" height=\"20\" width=\"15%\"><font color=\"green\">0659192VSF</font></td>\n",
       " <td align=\"center\" bordercolor=\"gray\" height=\"20\" width=\"15%\">SAN BENITO</td>\n",
       " <td align=\"center\" bordercolor=\"gray\" height=\"20\" width=\"5%\">TX</td>\n",
       " <td align=\"center\" bordercolor=\"gray\" height=\"20\" width=\"10%\">78586</td>\n",
       " </tr>\n",
       " <tr><td align=\"left\" bordercolor=\"gray\" height=\"20\" width=\"30%\"><a href=\"mccs_display.asp?mcrnumber=0656637VSF\">290 WRECKER SERVICE INC</a></td>\n",
       " <td align=\"left\" bordercolor=\"gray\" height=\"20\" width=\"20%\">HWY 290 WRECKER</td>\n",
       " <td align=\"center\" bordercolor=\"gray\" height=\"20\" width=\"15%\"><font color=\"green\">0656637VSF</font></td>\n",
       " <td align=\"center\" bordercolor=\"gray\" height=\"20\" width=\"15%\">HOCKLEY</td>\n",
       " <td align=\"center\" bordercolor=\"gray\" height=\"20\" width=\"5%\">TX</td>\n",
       " <td align=\"center\" bordercolor=\"gray\" height=\"20\" width=\"10%\">77447</td>\n",
       " </tr>\n",
       " <tr><td align=\"left\" bordercolor=\"gray\" height=\"20\" width=\"30%\"><a href=\"mccs_display.asp?mcrnumber=0650616VSF\">290 WRECKER SERVICE INC.</a></td>\n",
       " <td align=\"left\" bordercolor=\"gray\" height=\"20\" width=\"20%\">HWY 290 WRECKER</td>\n",
       " <td align=\"center\" bordercolor=\"gray\" height=\"20\" width=\"15%\"><font color=\"green\">0650616VSF</font></td>\n",
       " <td align=\"center\" bordercolor=\"gray\" height=\"20\" width=\"15%\">HOCKLEY</td>\n",
       " <td align=\"center\" bordercolor=\"gray\" height=\"20\" width=\"5%\">TX</td>\n",
       " <td align=\"center\" bordercolor=\"gray\" height=\"20\" width=\"10%\">77447</td>\n",
       " </tr>\n",
       " <tr><td align=\"left\" bordercolor=\"gray\" height=\"20\" width=\"30%\"><a href=\"mccs_display.asp?mcrnumber=0545753VSF\">290 WRECKER SERVICE, INC.</a></td>\n",
       " <td align=\"left\" bordercolor=\"gray\" height=\"20\" width=\"20%\">HWY 290 WRECKER</td>\n",
       " <td align=\"center\" bordercolor=\"gray\" height=\"20\" width=\"15%\"><font color=\"green\">0545753VSF</font></td>\n",
       " <td align=\"center\" bordercolor=\"gray\" height=\"20\" width=\"15%\">HOCKLEY</td>\n",
       " <td align=\"center\" bordercolor=\"gray\" height=\"20\" width=\"5%\">TX</td>\n",
       " <td align=\"center\" bordercolor=\"gray\" height=\"20\" width=\"10%\">77447</td>\n",
       " </tr>\n",
       " <tr><td align=\"left\" bordercolor=\"gray\" height=\"20\" width=\"30%\"><a href=\"mccs_display.asp?mcrnumber=005697854C\">290 WRECKER SERVICE, INC.</a></td>\n",
       " <td align=\"left\" bordercolor=\"gray\" height=\"20\" width=\"20%\">HWY 290 WRECKER</td>\n",
       " <td align=\"center\" bordercolor=\"gray\" height=\"20\" width=\"15%\"><font color=\"green\">005697854C</font></td>\n",
       " <td align=\"center\" bordercolor=\"gray\" height=\"20\" width=\"15%\">WALLER</td>\n",
       " <td align=\"center\" bordercolor=\"gray\" height=\"20\" width=\"5%\">TX</td>\n",
       " <td align=\"center\" bordercolor=\"gray\" height=\"20\" width=\"10%\">77484</td>\n",
       " </tr>\n",
       " <tr><td align=\"left\" bordercolor=\"gray\" height=\"20\" width=\"30%\"><a href=\"mccs_display.asp?mcrnumber=0657944VSF\">290 WRECKER SERVICE, INC.</a></td>\n",
       " <td align=\"left\" bordercolor=\"gray\" height=\"20\" width=\"20%\">HWY 290 WRECKER SERVICE</td>\n",
       " <td align=\"center\" bordercolor=\"gray\" height=\"20\" width=\"15%\"><font color=\"red\">0657944VSF (Insurance not applied !)</font></td>\n",
       " <td align=\"center\" bordercolor=\"gray\" height=\"20\" width=\"15%\">HOCKLEY</td>\n",
       " <td align=\"center\" bordercolor=\"gray\" height=\"20\" width=\"5%\">TX</td>\n",
       " <td align=\"center\" bordercolor=\"gray\" height=\"20\" width=\"10%\">77447</td>\n",
       " </tr>\n",
       " <tr><td align=\"left\" bordercolor=\"gray\" height=\"20\" width=\"30%\"><a href=\"mccs_display.asp?mcrnumber=006576510C\">3 ACES WRECKER SERVICE, LLC </a></td>\n",
       " <td align=\"left\" bordercolor=\"gray\" height=\"20\" width=\"20%\"><img src=\"SPACER.gif\"/></td>\n",
       " <td align=\"center\" bordercolor=\"gray\" height=\"20\" width=\"15%\"><font color=\"green\">006576510C</font></td>\n",
       " <td align=\"center\" bordercolor=\"gray\" height=\"20\" width=\"15%\">WALLISVILLE</td>\n",
       " <td align=\"center\" bordercolor=\"gray\" height=\"20\" width=\"5%\">TX</td>\n",
       " <td align=\"center\" bordercolor=\"gray\" height=\"20\" width=\"10%\">77597</td>\n",
       " </tr>\n",
       " <tr><td align=\"left\" bordercolor=\"gray\" height=\"20\" width=\"30%\"><a href=\"mccs_display.asp?mcrnumber=0657711VSF\">3 ACES WRECKER SERVICE, LLC </a></td>\n",
       " <td align=\"left\" bordercolor=\"gray\" height=\"20\" width=\"20%\"><img src=\"SPACER.gif\"/></td>\n",
       " <td align=\"center\" bordercolor=\"gray\" height=\"20\" width=\"15%\"><font color=\"green\">0657711VSF</font></td>\n",
       " <td align=\"center\" bordercolor=\"gray\" height=\"20\" width=\"15%\">WALLISVILLE</td>\n",
       " <td align=\"center\" bordercolor=\"gray\" height=\"20\" width=\"5%\">TX</td>\n",
       " <td align=\"center\" bordercolor=\"gray\" height=\"20\" width=\"10%\">77597</td>\n",
       " </tr>\n",
       " <tr><td align=\"left\" bordercolor=\"gray\" height=\"20\" width=\"30%\"><a href=\"mccs_display.asp?mcrnumber=0657712VSF\">3 ACES WRECKER SERVICE, LLC</a></td>\n",
       " <td align=\"left\" bordercolor=\"gray\" height=\"20\" width=\"20%\"><img src=\"SPACER.gif\"/></td>\n",
       " <td align=\"center\" bordercolor=\"gray\" height=\"20\" width=\"15%\"><font color=\"green\">0657712VSF</font></td>\n",
       " <td align=\"center\" bordercolor=\"gray\" height=\"20\" width=\"15%\">WALLISVILLE</td>\n",
       " <td align=\"center\" bordercolor=\"gray\" height=\"20\" width=\"5%\">TX</td>\n",
       " <td align=\"center\" bordercolor=\"gray\" height=\"20\" width=\"10%\">77597</td>\n",
       " </tr>\n",
       " <tr><td align=\"left\" bordercolor=\"gray\" height=\"20\" width=\"30%\"><a href=\"mccs_display.asp?mcrnumber=0657713VSF\">3 ACES WRECKER SERVICE, LLC</a></td>\n",
       " <td align=\"left\" bordercolor=\"gray\" height=\"20\" width=\"20%\"><img src=\"SPACER.gif\"/></td>\n",
       " <td align=\"center\" bordercolor=\"gray\" height=\"20\" width=\"15%\"><font color=\"green\">0657713VSF</font></td>\n",
       " <td align=\"center\" bordercolor=\"gray\" height=\"20\" width=\"15%\">WALLISVILLE</td>\n",
       " <td align=\"center\" bordercolor=\"gray\" height=\"20\" width=\"5%\">TX</td>\n",
       " <td align=\"center\" bordercolor=\"gray\" height=\"20\" width=\"10%\">77597</td>\n",
       " </tr>\n",
       " </tbody></table>,\n",
       " <table align=\"center\" width=\"88%\">\n",
       " <tbody><tr>\n",
       " <td align=\"LEFT\" width=\"50%\"><a href=\"mccs_search.asp\"><strong>New Search</strong></a></td>\n",
       " <td align=\"RIGHT\" width=\"50%\"><a href=\"#top\"><strong>Top of Page</strong></a></td>\n",
       " </tr>\n",
       " </tbody></table>]"
      ]
     },
     "execution_count": 85,
     "metadata": {},
     "output_type": "execute_result"
    }
   ],
   "source": [
    "doc.select(\"table\")"
   ]
  },
  {
   "cell_type": "code",
   "execution_count": 83,
   "metadata": {},
   "outputs": [],
   "source": [
    "import pandas as pd"
   ]
  },
  {
   "cell_type": "code",
   "execution_count": 90,
   "metadata": {},
   "outputs": [
    {
     "name": "stdout",
     "output_type": "stream",
     "text": [
      "                          Customer                       DBA Name  \\\n",
      "0      CALIBER WRECKER SERVICE LLC                                  \n",
      "1       1ST CHOICE WRECKER SERVICE   1ST CHOICE PAINT & BODY, INC   \n",
      "2       1ST CHOICE WRECKER SERVICE  1ST CHOICE PAINT & BODY, INC.   \n",
      "3   1ST CHOICE WRECKER SERVICE LLC                                  \n",
      "4   1ST CHOICE WRECKER SERVICE LLC                                  \n",
      "5   1ST CHOICE WRECKER SERVICE LLC                                  \n",
      "6       1STCHOICEWRECKERSERVICELLC                                  \n",
      "7     24 HOUR WRECKER SERVICE INC.                                  \n",
      "8     24 HOUR WRECKER SERVICE, INC                                  \n",
      "9         24/7 WRECKER SERVICE LLC                                  \n",
      "10        24/7 WRECKER SERVICE LLC                                  \n",
      "11         290 WRECKER SERVICE INC                HWY 290 WRECKER   \n",
      "12        290 WRECKER SERVICE INC.                HWY 290 WRECKER   \n",
      "13       290 WRECKER SERVICE, INC.                HWY 290 WRECKER   \n",
      "14       290 WRECKER SERVICE, INC.                HWY 290 WRECKER   \n",
      "15       290 WRECKER SERVICE, INC.        HWY 290 WRECKER SERVICE   \n",
      "16     3 ACES WRECKER SERVICE, LLC                                  \n",
      "17     3 ACES WRECKER SERVICE, LLC                                  \n",
      "18     3 ACES WRECKER SERVICE, LLC                                  \n",
      "19     3 ACES WRECKER SERVICE, LLC                                  \n",
      "20     CALIBER WRECKER SERVICE LLC                                  \n",
      "21      1ST CHOICE WRECKER SERVICE   1ST CHOICE PAINT & BODY, INC   \n",
      "22      1ST CHOICE WRECKER SERVICE  1ST CHOICE PAINT & BODY, INC.   \n",
      "23  1ST CHOICE WRECKER SERVICE LLC                                  \n",
      "24  1ST CHOICE WRECKER SERVICE LLC                                  \n",
      "25  1ST CHOICE WRECKER SERVICE LLC                                  \n",
      "26      1STCHOICEWRECKERSERVICELLC                                  \n",
      "27    24 HOUR WRECKER SERVICE INC.                                  \n",
      "28    24 HOUR WRECKER SERVICE, INC                                  \n",
      "29        24/7 WRECKER SERVICE LLC                                  \n",
      "30        24/7 WRECKER SERVICE LLC                                  \n",
      "31         290 WRECKER SERVICE INC                HWY 290 WRECKER   \n",
      "32        290 WRECKER SERVICE INC.                HWY 290 WRECKER   \n",
      "33       290 WRECKER SERVICE, INC.                HWY 290 WRECKER   \n",
      "34       290 WRECKER SERVICE, INC.                HWY 290 WRECKER   \n",
      "35       290 WRECKER SERVICE, INC.        HWY 290 WRECKER SERVICE   \n",
      "36     3 ACES WRECKER SERVICE, LLC                                  \n",
      "37     3 ACES WRECKER SERVICE, LLC                                  \n",
      "38     3 ACES WRECKER SERVICE, LLC                                  \n",
      "39     3 ACES WRECKER SERVICE, LLC                                  \n",
      "40     CALIBER WRECKER SERVICE LLC                                  \n",
      "41      1ST CHOICE WRECKER SERVICE   1ST CHOICE PAINT & BODY, INC   \n",
      "42      1ST CHOICE WRECKER SERVICE  1ST CHOICE PAINT & BODY, INC.   \n",
      "43  1ST CHOICE WRECKER SERVICE LLC                                  \n",
      "44  1ST CHOICE WRECKER SERVICE LLC                                  \n",
      "45  1ST CHOICE WRECKER SERVICE LLC                                  \n",
      "46      1STCHOICEWRECKERSERVICELLC                                  \n",
      "47    24 HOUR WRECKER SERVICE INC.                                  \n",
      "48    24 HOUR WRECKER SERVICE, INC                                  \n",
      "49        24/7 WRECKER SERVICE LLC                                  \n",
      "50        24/7 WRECKER SERVICE LLC                                  \n",
      "51         290 WRECKER SERVICE INC                HWY 290 WRECKER   \n",
      "52        290 WRECKER SERVICE INC.                HWY 290 WRECKER   \n",
      "53       290 WRECKER SERVICE, INC.                HWY 290 WRECKER   \n",
      "54       290 WRECKER SERVICE, INC.                HWY 290 WRECKER   \n",
      "55       290 WRECKER SERVICE, INC.        HWY 290 WRECKER SERVICE   \n",
      "56     3 ACES WRECKER SERVICE, LLC                                  \n",
      "57     3 ACES WRECKER SERVICE, LLC                                  \n",
      "58     3 ACES WRECKER SERVICE, LLC                                  \n",
      "59     3 ACES WRECKER SERVICE, LLC                                  \n",
      "\n",
      "                             TDLR Number         City State Zip code  \n",
      "0   006598046C (Insurance not applied !)  CHANNELVIEW    TX    77530  \n",
      "1                             006096604C      TERRELL    TX    75160  \n",
      "2                             0612137VSF      TERRELL    TX    75160  \n",
      "3                             006529369C      SILSBEE    TX    77656  \n",
      "4                             0652937VSF      SILSBEE    TX    77656  \n",
      "5                             0655000VSF      SILSBEE    TX    77656  \n",
      "6                             0654581VSF      SILSBEE    TX    77656  \n",
      "7                             005052021C    LANCASTER    TX    75146  \n",
      "8                             0514204VSF    LANCASTER    TX    75146  \n",
      "9                             006551087C   SAN BENITO    TX    78586  \n",
      "10                            0659192VSF   SAN BENITO    TX    78586  \n",
      "11                            0656637VSF      HOCKLEY    TX    77447  \n",
      "12                            0650616VSF      HOCKLEY    TX    77447  \n",
      "13                            0545753VSF      HOCKLEY    TX    77447  \n",
      "14                            005697854C       WALLER    TX    77484  \n",
      "15  0657944VSF (Insurance not applied !)      HOCKLEY    TX    77447  \n",
      "16                            006576510C  WALLISVILLE    TX    77597  \n",
      "17                            0657711VSF  WALLISVILLE    TX    77597  \n",
      "18                            0657712VSF  WALLISVILLE    TX    77597  \n",
      "19                            0657713VSF  WALLISVILLE    TX    77597  \n",
      "20  006598046C (Insurance not applied !)  CHANNELVIEW    TX    77530  \n",
      "21                            006096604C      TERRELL    TX    75160  \n",
      "22                            0612137VSF      TERRELL    TX    75160  \n",
      "23                            006529369C      SILSBEE    TX    77656  \n",
      "24                            0652937VSF      SILSBEE    TX    77656  \n",
      "25                            0655000VSF      SILSBEE    TX    77656  \n",
      "26                            0654581VSF      SILSBEE    TX    77656  \n",
      "27                            005052021C    LANCASTER    TX    75146  \n",
      "28                            0514204VSF    LANCASTER    TX    75146  \n",
      "29                            006551087C   SAN BENITO    TX    78586  \n",
      "30                            0659192VSF   SAN BENITO    TX    78586  \n",
      "31                            0656637VSF      HOCKLEY    TX    77447  \n",
      "32                            0650616VSF      HOCKLEY    TX    77447  \n",
      "33                            0545753VSF      HOCKLEY    TX    77447  \n",
      "34                            005697854C       WALLER    TX    77484  \n",
      "35  0657944VSF (Insurance not applied !)      HOCKLEY    TX    77447  \n",
      "36                            006576510C  WALLISVILLE    TX    77597  \n",
      "37                            0657711VSF  WALLISVILLE    TX    77597  \n",
      "38                            0657712VSF  WALLISVILLE    TX    77597  \n",
      "39                            0657713VSF  WALLISVILLE    TX    77597  \n",
      "40  006598046C (Insurance not applied !)  CHANNELVIEW    TX    77530  \n",
      "41                            006096604C      TERRELL    TX    75160  \n",
      "42                            0612137VSF      TERRELL    TX    75160  \n",
      "43                            006529369C      SILSBEE    TX    77656  \n",
      "44                            0652937VSF      SILSBEE    TX    77656  \n",
      "45                            0655000VSF      SILSBEE    TX    77656  \n",
      "46                            0654581VSF      SILSBEE    TX    77656  \n",
      "47                            005052021C    LANCASTER    TX    75146  \n",
      "48                            0514204VSF    LANCASTER    TX    75146  \n",
      "49                            006551087C   SAN BENITO    TX    78586  \n",
      "50                            0659192VSF   SAN BENITO    TX    78586  \n",
      "51                            0656637VSF      HOCKLEY    TX    77447  \n",
      "52                            0650616VSF      HOCKLEY    TX    77447  \n",
      "53                            0545753VSF      HOCKLEY    TX    77447  \n",
      "54                            005697854C       WALLER    TX    77484  \n",
      "55  0657944VSF (Insurance not applied !)      HOCKLEY    TX    77447  \n",
      "56                            006576510C  WALLISVILLE    TX    77597  \n",
      "57                            0657711VSF  WALLISVILLE    TX    77597  \n",
      "58                            0657712VSF  WALLISVILLE    TX    77597  \n",
      "59                            0657713VSF  WALLISVILLE    TX    77597  \n"
     ]
    }
   ],
   "source": [
    "table = doc.find('table', align='center', width='88%')\n",
    "headers = [header.text.strip() for header in table.find_all('td')]\n",
    "data_rows = table.find_all('tr')[1:]\n",
    "\n",
    "for row in data_rows:\n",
    "    cells = row.find_all('td')\n",
    "    customers.append(cells[0].text.strip())\n",
    "    dba_names.append(cells[1].text.strip())\n",
    "    tdlr_numbers.append(cells[2].text.strip())\n",
    "    cities.append(cells[3].text.strip())\n",
    "    states.append(cells[4].text.strip())\n",
    "    zip_codes.append(cells[5].text.strip())\n",
    "\n",
    "data = {\n",
    "    'Customer': customers,\n",
    "    'DBA Name': dba_names,\n",
    "    'TDLR Number': tdlr_numbers,\n",
    "    'City': cities,\n",
    "    'State': states,\n",
    "    'Zip code': zip_codes\n",
    "}\n",
    "\n",
    "df = pd.DataFrame(data)\n",
    "print(df)"
   ]
  },
  {
   "cell_type": "code",
   "execution_count": null,
   "metadata": {},
   "outputs": [],
   "source": []
  },
  {
   "cell_type": "code",
   "execution_count": null,
   "metadata": {},
   "outputs": [],
   "source": []
  },
  {
   "cell_type": "code",
   "execution_count": null,
   "metadata": {},
   "outputs": [],
   "source": []
  },
  {
   "cell_type": "markdown",
   "metadata": {},
   "source": [
    "### Cleanup\n",
    "\n",
    "If you haven't already, rename the columns to be:\n",
    "    \n",
    "    * Customer\n",
    "    * DBA Name\n",
    "    * TDLR Number\n",
    "    * City\n",
    "    * State\n",
    "    * Zip code\n",
    "\n",
    "and remove all of the rows where the customer name is `Customer`."
   ]
  },
  {
   "cell_type": "code",
   "execution_count": null,
   "metadata": {},
   "outputs": [],
   "source": [
    "#Why would the customer name be customer, if we searched with the name \"wreck\"?"
   ]
  },
  {
   "cell_type": "code",
   "execution_count": null,
   "metadata": {},
   "outputs": [],
   "source": []
  },
  {
   "cell_type": "markdown",
   "metadata": {},
   "source": [
    "## Save as `wreckers.csv`"
   ]
  },
  {
   "cell_type": "code",
   "execution_count": 86,
   "metadata": {},
   "outputs": [],
   "source": [
    "df.to_csv('wreckers.csv', index=False)"
   ]
  },
  {
   "cell_type": "code",
   "execution_count": 88,
   "metadata": {},
   "outputs": [
    {
     "name": "stdout",
     "output_type": "stream",
     "text": [
      "00 - Scraping basics for Playwright.ipynb\n",
      "01 - Scraping - Texas Cosmetology Violations.ipynb\n",
      "02 - Tow Trucks.ipynb\n",
      "headlines.csv\n",
      "trucks-subset.csv\n",
      "wreck.csv\n",
      "wreckers.csv\n"
     ]
    }
   ],
   "source": [
    "!ls"
   ]
  },
  {
   "cell_type": "markdown",
   "metadata": {},
   "source": [
    "# Part Two: Company info\n",
    "\n",
    "> You can use whatever tool you'd like for this, but form submission doesn't necessarily mean Playwright! If you want to go the `requests` route instead, feel free to [look at this page](https://jonathansoma.com/everything/scraping/pretending-to-be-a-browser/) about several ways to pretend to be a browser.\n",
    "\n",
    "## Step 1: Scraping one page\n",
    "\n",
    "Try searching from the [tools page](https://www.tdlr.texas.gov/tools_search/) for the TDLR Number `006556161C`. From the results page, scrape the:\n",
    "\n",
    "* Business name\n",
    "* Phone number\n",
    "* License status\n",
    "* Physical address\n",
    "\n",
    "And save the results into a dictionary. Also include `TDLR Number` in the dictionary. **Print the dictionary**.\n",
    "\n",
    "> ***Tip:** It's best if each item has its own key, but **it's fine to pull \"larger\" sections of the page and split them up in pandas later on***\n",
    ">\n",
    "> ***Tip:** Be sure you don't forget to include `TDLR Number` in the dictionary!*"
   ]
  },
  {
   "cell_type": "code",
   "execution_count": 93,
   "metadata": {},
   "outputs": [],
   "source": [
    "playwright = await async_playwright().start()\n",
    "browser = await playwright.chromium.launch(headless=False)"
   ]
  },
  {
   "cell_type": "code",
   "execution_count": 94,
   "metadata": {},
   "outputs": [],
   "source": [
    "page2 = await browser.new_page()"
   ]
  },
  {
   "cell_type": "code",
   "execution_count": 96,
   "metadata": {},
   "outputs": [
    {
     "data": {
      "text/plain": [
       "<Response url='https://www.tdlr.texas.gov/tools_search/' request=<Request url='https://www.tdlr.texas.gov/tools_search/' method='GET'>>"
      ]
     },
     "execution_count": 96,
     "metadata": {},
     "output_type": "execute_result"
    }
   ],
   "source": [
    "await page2.goto(\"https://www.tdlr.texas.gov/tools_search/\")"
   ]
  },
  {
   "cell_type": "code",
   "execution_count": 103,
   "metadata": {},
   "outputs": [],
   "source": [
    "await page2.locator(\"#mcrbutton\").click()"
   ]
  },
  {
   "cell_type": "code",
   "execution_count": 104,
   "metadata": {},
   "outputs": [],
   "source": [
    "await page2.locator(\"#mcrdata\").fill(\"006556161C\")"
   ]
  },
  {
   "cell_type": "code",
   "execution_count": 105,
   "metadata": {},
   "outputs": [],
   "source": [
    "await page2.locator(\"#submit3\").click()"
   ]
  },
  {
   "cell_type": "code",
   "execution_count": 101,
   "metadata": {},
   "outputs": [],
   "source": [
    "doc2 = BeautifulSoup(await page2.content(), 'html.parser')"
   ]
  },
  {
   "cell_type": "code",
   "execution_count": 106,
   "metadata": {},
   "outputs": [
    {
     "data": {
      "text/plain": [
       "[<table align=\"center\" width=\"85%\">\n",
       " <tbody><tr>\n",
       " <td align=\"center\" valign=\"top\" width=\"60%\">\n",
       " <font face=\"Arial\" size=\"3\"><b>TDLR Tow Company and Vehicle Storage Facility Inquiry Page</b></font>\n",
       " </td>\n",
       " </tr>\n",
       " <tr>\n",
       " <td style=\"width:20%; text-align:center\"><a href=\"ConsortiumReport.asp\">TDLR Approved Consortium List</a></td>\n",
       " </tr>\n",
       " </tbody></table>,\n",
       " <table align=\"center\" border=\"1\" width=\"85%\">\n",
       " <tbody><tr>\n",
       " <td bgcolor=\"#oo33ff\" width=\"180\"><center><b><font color=\"white\">Search By:</font></b></center></td>\n",
       " <td bgcolor=\"#oo33ff\"><center><b><font color=\"white\">Description</font></b></center></td>\n",
       " </tr>\n",
       " <tr>\n",
       " <td bgcolor=\"#99CCFF\">\n",
       " </td>\n",
       " <td bgcolor=\"#99CCFF\"> </td>\n",
       " </tr>\n",
       " <tr>\n",
       " <td>\n",
       " <input id=\"namebutton\" name=\"searchtype\" onclick=\"//document.searchinfo.namedata.style.visibility='visible';\n",
       " \t\t\t    searchinfo.namedata.focus();\n",
       " \t\t\t    searchinfo.name_carrier_type.style.visibility='visible';\t\t\t\n",
       " \t\t\t    //document.searchinfo.mcrdata.value='';\n",
       " \t\t\t    //document.searchinfo.mcrdata.style.visibility='hidden';\n",
       " \t\t\t    searchinfo.citydata.value='';\n",
       " \t\t\t    //document.searchinfo.citydata.style.visibility='hidden';\n",
       " \t\t\t    //document.searchinfo.city_status.style.visibility='hidden';\n",
       " \t\t\t    //document.searchinfo.city_carrier_type.style.visibility='hidden';\n",
       " \t\t\t    //document.searchinfo.zip_status.style.visibility='hidden';\n",
       " \t\t\t    searchinfo.zipcodedata.value='';\n",
       " \t\t\t    //document.searchinfo.zip_carrier_type.style.visibility='hidden';\n",
       " \t\t\t    //document.searchinfo.zipcodedata.style.visibility='hidden'\" style=\"visibility:visible\" type=\"radio\" value=\"name\"/>\n",
       " \t\t\t\t\n",
       " \t\t\t Company Name  \n",
       " \t\t\t<br/>   \n",
       " \t\t\t<input id=\"namedata\" maxlength=\"20\" name=\"namedata\" onkeydown=\"searchinfo.namebutton.checked=true; searchinfo.mcrdata.value='';searchinfo.citydata.value=''; searchinfo.zipcodedata.value='';\" size=\"20\" style=\"visibility: visible; text-transform: uppercase;\" type=\"text\"/>\n",
       " <br/>   \n",
       " \t\t\t\n",
       " \t\t\t<select id=\"name_carrier_type\" name=\"name_carrier_type\" style=\"visibility: visible;\">\n",
       " <option value=\"COMPANY\">Customer Name</option>\n",
       " <option value=\"DBA\">DBA Name</option>\n",
       " </select>\n",
       " </td>\n",
       " <td>\n",
       " \t\t\tTo search by tow company or vehicle storage facility, a minimum of the first three letters (characters) of the carrier's name must be entered. Spaces, periods, hyphens, etc. represent characters.  The drop-down list provides you the option of searching by 'Customer' or 'DBA' (Doing Business As) name.\n",
       " \t\t</td>\n",
       " </tr>\n",
       " <tr>\n",
       " <td bgcolor=\"#99CCFF\">\n",
       " </td>\n",
       " <td bgcolor=\"#99CCFF\"> </td>\n",
       " </tr>\n",
       " <tr>\n",
       " <td>\n",
       " <input id=\"mcrbutton\" name=\"searchtype\" onclick=\"searchinfo.namedata.value='';\n",
       " \t\t\t    //document.searchinfo.namedata.style.visibility='hidden';\n",
       " \t\t\t    //document.searchinfo.name_carrier_type.style.visibility='hidden';\t\t\t\n",
       " \t\t\t    //searchinfo.mcrdata.style.visibility='visible';\n",
       " \t\t\t    searchinfo.mcrdata.focus();\n",
       " \t\t\t    searchinfo.citydata.value='';\n",
       " \t\t\t    //document.searchinfo.city_status.style.visibility='hidden';\n",
       " \t\t\t    //document.searchinfo.city_carrier_type.style.visibility='hidden';\n",
       " \t\t\t    //document.searchinfo.zip_status.style.visibility='hidden';\n",
       " \t\t\t    //document.searchinfo.citydata.style.visibility='hidden';\n",
       " \t\t\t    searchinfo.zipcodedata.value='';\n",
       " \t\t\t    //document.searchinfo.zip_carrier_type.style.visibility='hidden';\n",
       " \t\t\t    //document.searchinfo.zipcodedata.style.visibility='hidden'\" type=\"radio\" value=\"mcr\"/>\t\n",
       " \t\t\t\t\n",
       " \t\t\t TDLR Number  \n",
       " \t\t\t<br/>   \n",
       " \t\t\t<input id=\"mcrdata\" maxlength=\"10\" name=\"mcrdata\" onkeydown=\"searchinfo.mcrbutton.checked=true; searchinfo.namedata.value='';\n",
       " \t\t\t                  searchinfo.citydata.value=''; searchinfo.zipcodedata.value='';\" size=\"20\" style=\"visibility: visible; text-transform: uppercase;\" type=\"text\"/>\n",
       " </td>\n",
       " <td>\n",
       " \t\t\tTo search by TDLR number, enter the full 10-digit certificate number \n",
       " \t\t\tand click on the Search button. If the tow company's TDLR number is \"TDLR No. 1234567C,\" enter the number 001234567C in the search field. \n",
       " \t\t\tIf a vehicle storage facility company's TDLR number is \"TDLR No \n",
       " \t\t\t123456VSF,\" enter the number 0123456VSF in the search field.</td>\n",
       " </tr>\n",
       " <tr>\n",
       " <td bgcolor=\"#99CCFF\">\n",
       " </td>\n",
       " <td bgcolor=\"#99CCFF\"> </td>\n",
       " </tr>\n",
       " <tr>\n",
       " <td>\n",
       " <input id=\"citybutton\" name=\"searchtype\" onclick=\"searchinfo.namedata.value='';\n",
       " \t\t\t    //document.searchinfo.namedata.style.visibility='hidden';\n",
       " \t\t\t    //document.searchinfo.name_carrier_type.style.visibility='hidden';\t\t\t\n",
       " \t\t\t    searchinfo.mcrdata.value='';\n",
       " \t\t\t    //document.searchinfo.mcrdata.style.visibility='hidden';\n",
       " \t\t\t    //document.searchinfo.citydata.style.visibility='visible';\n",
       " \t\t\t    searchinfo.citydata.focus();\n",
       " \t\t\t    //document.searchinfo.city_status.style.visibility='visible';\n",
       " \t\t\t    //document.searchinfo.city_carrier_type.style.visibility='visible';\n",
       " \t\t\t    //document.searchinfo.zip_status.style.visibility='hidden';\n",
       " \t\t\t    searchinfo.zipcodedata.value='';\n",
       " \t\t\t    //document.searchinfo.zip_carrier_type.style.visibility='hidden';\n",
       " \t\t\t    //document.searchinfo.zipcodedata.style.visibility='hidden'\" type=\"radio\" value=\"city\"/>\n",
       " \t\t\t\t\n",
       " \t\t\t City  \n",
       " \t\t\t<br/>   \n",
       " \t\t\t<input id=\"citydata\" maxlength=\"20\" name=\"citydata\" onkeydown=\"searchinfo.citybutton.checked=true;\n",
       " \t\t\t                                                   searchinfo.namedata.value='';\n",
       " \t\t\t                                                   searchinfo.mcrdata.value='';\n",
       " \t\t\t                                                   searchinfo.namedata.value='';\" size=\"20\" style=\"visibility: visible; text-transform: uppercase;\" type=\"text\"/>\n",
       " <br/>   \n",
       " \t\t\t\n",
       " \n",
       " \t\t\t<select id=\"city_status\" name=\"city_status\" style=\"visibility: visible;\">\n",
       " <option value=\"ALL\">Show All</option>\n",
       " <option selected=\"\" value=\"A\">Active</option>\n",
       " <option value=\"AH\">Administrative Hold</option>\n",
       " <option value=\"EH\">Enforcement Hold</option>\n",
       " <option value=\"R\">Insurance Not Applied</option>\n",
       " <option value=\"E\">Expired (less than 1 year)</option>\n",
       " </select>\n",
       " <br/>   \n",
       " \t\t\t\n",
       " \t\t\t<select id=\"city_carrier_type\" name=\"city_carrier_type\" style=\"visibility: visible;\">\n",
       " <option value=\"all\">Show All</option>\n",
       " <option selected=\"\" value=\"tow\">Tow Truck</option>\n",
       " <option value=\"vsf\">Vehicle Storage Facility</option>\n",
       " </select>\n",
       " </td>\n",
       " <td>\n",
       " \t\t\tEnter the name of the city or town you would like to search for, along with the certificate status and company type. \n",
       " \t\t\tClick <a href=\"javascript:openwindow('cert_definitions.htm');\">Here</a> \n",
       " \t\t\tfor certificate status definitions. Click <a href=\"javascript:openwindow('carrier_definitions.htm');\">Here</a> for company type definitions.\n",
       " \t\t</td>\n",
       " </tr>\n",
       " <tr>\n",
       " <td bgcolor=\"#99CCFF\">\n",
       " </td>\n",
       " <td bgcolor=\"#99CCFF\"> </td>\n",
       " </tr>\n",
       " <tr>\n",
       " <td>\n",
       " <input id=\"zipcodebutton\" name=\"searchtype\" onclick=\"searchinfo.namedata.value='';\n",
       " \t\t\t//document.searchinfo.namedata.style.visibility='hidden';\n",
       " \t\t\t//document.searchinfo.name_carrier_type.style.visibility='hidden';\t\t\t\n",
       " \t\t\tsearchinfo.mcrdata.value='';\n",
       " \t\t\t//document.searchinfo.mcrdata.style.visibility='hidden';\n",
       " \t\t\tsearchinfo.citydata.value='';\n",
       " \t\t\t//document.searchinfo.citydata.style.visibility='hidden';\n",
       " \t\t\t//document.searchinfo.city_carrier_type.style.visibility='hidden';\n",
       " \t\t\t//document.searchinfo.city_status.style.visibility='hidden';\n",
       " \t\t\t//document.searchinfo.zip_status.style.visibility='visible';\n",
       " \t\t\t//document.searchinfo.zip_carrier_type.style.visibility='visible';\n",
       " \t\t\t//document.searchinfo.zipcodedata.style.visibility='visible';\n",
       " \t\t\tsearchinfo.zipcodedata.focus()\" type=\"radio\" value=\"zipcode\"/>\n",
       " \t\t\t\t\t\t\t\n",
       " \t\t\t Zip Code  \n",
       " \t\t\t<br/>   \n",
       " \t\t\t<input id=\"zipcodedata\" maxlength=\"5\" name=\"zipcodedata\" onkeydown=\"searchinfo.zipcodebutton.checked=true;\n",
       " \t\t\t                                          searchinfo.citydata.value='';\n",
       " \t\t\t                                          searchinfo.mcrdata.value='';\n",
       " \t\t\t                                          searchinfo.namedata.value='';\" size=\"20\" style=\"visibility: visible;\" type=\"text\"/>\n",
       " <br/>   \n",
       " \t\t\t\n",
       " \t\t\t<select id=\"zip_status\" name=\"zip_status\" style=\"visibility: visible;\">\n",
       " <option value=\"ALL\">Show All</option>\n",
       " <option \"selected\"=\"\" value=\"A\">Active</option>\n",
       " <option value=\"AH\">Administrative Hold</option>\n",
       " <option value=\"EH\">Enforcement Hold</option>\n",
       " <option value=\"R\">Insurance Not Applied</option>\n",
       " <option value=\"E\">Expired (less than 1 year)</option>\n",
       " </select>\n",
       " \t\t\t\n",
       " \t\t\t   \n",
       " \t\t\t\n",
       " \t\t\t<select id=\"zip_carrier_type\" name=\"zip_carrier_type\" style=\"visibility: visible;\">\n",
       " <option value=\"all\">Show All</option>\n",
       " <option \"selected\"=\"\" value=\"tow\">Tow Truck</option>\n",
       " <option value=\"vsf\">Vehicle Storage Facility</option>\n",
       " </select>\n",
       " </td>\n",
       " <td>\n",
       " \t\t\tEnter the Zip Code you would like to search for, along with the certificate status and company type.\n",
       " \t\t\tClick <a href=\"javascript:openwindow('cert_definitions.htm');\">Here</a> for certificate status definitions.\n",
       " \t\t\tClick <a href=\"javascript:openwindow('carrier_definitions.htm');\">Here</a> for company type definitions.\n",
       " \t\t</td>\n",
       " </tr>\n",
       " <tr bgcolor=\"#oo33ff\">\n",
       " <td colspan=\"2\">\n",
       " <center><button id=\"submit3\" name=\"proc\" onclick=\"return checkform(searchinfo)\" type=\"submit\">\n",
       " <b> Search </b></button></center>\n",
       " </td>\n",
       " </tr>\n",
       " </tbody></table>]"
      ]
     },
     "execution_count": 106,
     "metadata": {},
     "output_type": "execute_result"
    }
   ],
   "source": [
    "doc2.select(\"table\")"
   ]
  },
  {
   "cell_type": "markdown",
   "metadata": {},
   "source": [
    "## Step 2: Move into one cell\n",
    "\n",
    "Move the code above all into one cell that relies on the variable `tdlr_number`.\n",
    "\n",
    "Add the code below to the page and confirm that it displays the data for the correct result.\n",
    "\n",
    "```python\n",
    "tdlr_number = '0654479VSF'\n",
    "```\n",
    "\n",
    "Confirm that the information is correct. Did it not work out? Go back and edit your selectors, or be a little broader in the parts of the page you sweep up."
   ]
  },
  {
   "cell_type": "code",
   "execution_count": null,
   "metadata": {},
   "outputs": [],
   "source": []
  },
  {
   "cell_type": "code",
   "execution_count": null,
   "metadata": {},
   "outputs": [],
   "source": []
  },
  {
   "cell_type": "markdown",
   "metadata": {},
   "source": [
    "## Step 3: Scraping many pages\n",
    "\n",
    "Using pandas, read in `trucks-subset.csv`."
   ]
  },
  {
   "cell_type": "code",
   "execution_count": null,
   "metadata": {},
   "outputs": [],
   "source": []
  },
  {
   "cell_type": "markdown",
   "metadata": {},
   "source": [
    "## Scrape every single row, creating a list of dictionaries from the scraped data.\n",
    "\n",
    "You should never use for loops with pandas *except when working with Playwright*. To use loops in pandas you'll make use of `.iterrows()`.\n",
    "\n",
    "The code below loops through a dataframe called `df` and prints out the `address` column.\n",
    "\n",
    "```python\n",
    "for index, row in df.iterrows():\n",
    "    print(row['address'])\n",
    "```\n",
    "\n",
    "You'll adapt this code to use your dataframe, and combine it with the scraping code you wrote above.\n",
    "\n",
    "> ***Tip:** This is like what we did for the townships in class*"
   ]
  },
  {
   "cell_type": "code",
   "execution_count": null,
   "metadata": {},
   "outputs": [],
   "source": []
  },
  {
   "cell_type": "code",
   "execution_count": null,
   "metadata": {},
   "outputs": [],
   "source": []
  },
  {
   "cell_type": "code",
   "execution_count": null,
   "metadata": {},
   "outputs": [],
   "source": []
  },
  {
   "cell_type": "code",
   "execution_count": null,
   "metadata": {},
   "outputs": [],
   "source": []
  },
  {
   "cell_type": "markdown",
   "metadata": {},
   "source": [
    "## Save your dataframe as `data-uncleaned.csv`"
   ]
  },
  {
   "cell_type": "code",
   "execution_count": null,
   "metadata": {},
   "outputs": [],
   "source": []
  },
  {
   "cell_type": "markdown",
   "metadata": {},
   "source": [
    "# Cleaning your data\n",
    "\n",
    "## Re-open the `data-uncleaned.csv` file\n",
    "\n",
    "You probably want to set `pd.options.display.max_colwidth`"
   ]
  },
  {
   "cell_type": "code",
   "execution_count": null,
   "metadata": {},
   "outputs": [],
   "source": []
  },
  {
   "cell_type": "markdown",
   "metadata": {},
   "source": [
    "## Clean it up!\n",
    "\n",
    "Make sure there are columns for\n",
    "\n",
    "- Business name\n",
    "- Phone number\n",
    "- License status\n",
    "- Physical address\n",
    "\n",
    "And drop all of the other columns (The easiest way is to use `df = df.drop(columns=[...])`)"
   ]
  },
  {
   "cell_type": "code",
   "execution_count": null,
   "metadata": {},
   "outputs": [],
   "source": []
  },
  {
   "cell_type": "code",
   "execution_count": null,
   "metadata": {},
   "outputs": [],
   "source": []
  },
  {
   "cell_type": "markdown",
   "metadata": {},
   "source": [
    "## Combine with the original CSV file\n",
    "\n",
    "To combine dataframes based on indexes, you use `df.join(other_df)`. If you'd prefer to match by columns, you could also use `df.merge(other_df, left_on='...', right_on='...')` and tell it the two columns that match between the two."
   ]
  },
  {
   "cell_type": "code",
   "execution_count": null,
   "metadata": {},
   "outputs": [],
   "source": []
  },
  {
   "cell_type": "code",
   "execution_count": null,
   "metadata": {},
   "outputs": [],
   "source": []
  },
  {
   "cell_type": "markdown",
   "metadata": {},
   "source": [
    "### Save to a CSV"
   ]
  },
  {
   "cell_type": "code",
   "execution_count": null,
   "metadata": {},
   "outputs": [],
   "source": []
  }
 ],
 "metadata": {
  "kernelspec": {
   "display_name": "Python 3 (ipykernel)",
   "language": "python",
   "name": "python3"
  },
  "language_info": {
   "codemirror_mode": {
    "name": "ipython",
    "version": 3
   },
   "file_extension": ".py",
   "mimetype": "text/x-python",
   "name": "python",
   "nbconvert_exporter": "python",
   "pygments_lexer": "ipython3",
   "version": "3.11.6"
  }
 },
 "nbformat": 4,
 "nbformat_minor": 4
}
